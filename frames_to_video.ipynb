{
  "nbformat": 4,
  "nbformat_minor": 0,
  "metadata": {
    "colab": {
      "provenance": []
    },
    "kernelspec": {
      "name": "python3",
      "display_name": "Python 3"
    },
    "language_info": {
      "name": "python"
    }
  },
  "cells": [
    {
      "cell_type": "code",
      "execution_count": 1,
      "metadata": {
        "colab": {
          "base_uri": "https://localhost:8080/"
        },
        "id": "rip5LW48lxsz",
        "outputId": "db94f905-67dd-4f8b-d382-a6b852292460"
      },
      "outputs": [
        {
          "output_type": "stream",
          "name": "stdout",
          "text": [
            "Mounted at /content/drive\n"
          ]
        }
      ],
      "source": [
        "# Import necessary libraries\n",
        "import cv2\n",
        "import os\n",
        "from google.colab import drive\n",
        "\n",
        "# Mount Google Drive\n",
        "drive.mount('/content/drive')"
      ]
    },
    {
      "cell_type": "code",
      "source": [
        "# Specify the path to the folder containing the frames\n",
        "frames_folder = '/content/drive/MyDrive/673/submission/abhinav7_project1_part1/2'\n",
        "\n",
        "# Get the list of frames in the folder and sort them\n",
        "frame_files = sorted([f for f in os.listdir(frames_folder) if f.startswith(\"frame_\") and f.endswith(\".png\")], key=lambda x: int(x.split('_')[1].split('.')[0]))\n",
        "\n",
        "# Read the first frame to get the frame size\n",
        "first_frame_path = os.path.join(frames_folder, frame_files[0])\n",
        "frame = cv2.imread(first_frame_path)\n",
        "height, width, layers = frame.shape\n",
        "\n",
        "# Define the video codec and create a VideoWriter object\n",
        "video_filename = '/content/drive/MyDrive/673/submission/abhinav7_project1_part1/output.mp4'\n",
        "fourcc = cv2.VideoWriter_fourcc(*'mp4v')  # Codec for mp4 file\n",
        "video = cv2.VideoWriter(video_filename, fourcc, 30.0, (width, height))\n",
        "\n",
        "# Iterate through each frame file and write it to the video\n",
        "for frame_file in frame_files:\n",
        "    frame_path = os.path.join(frames_folder, frame_file)\n",
        "    frame = cv2.imread(frame_path)\n",
        "    video.write(frame)\n",
        "\n",
        "# Release the VideoWriter object\n",
        "video.release()\n",
        "\n",
        "print(f\"Video created successfully and saved as {video_filename}\")"
      ],
      "metadata": {
        "colab": {
          "base_uri": "https://localhost:8080/"
        },
        "id": "eMuxc0jdl2R-",
        "outputId": "44a0499e-db53-48d4-92c8-3b7d81f8f375"
      },
      "execution_count": 4,
      "outputs": [
        {
          "output_type": "stream",
          "name": "stdout",
          "text": [
            "Video created successfully and saved as /content/drive/MyDrive/673/submission/abhinav7_project1_part1/output.mp4\n"
          ]
        }
      ]
    }
  ]
}